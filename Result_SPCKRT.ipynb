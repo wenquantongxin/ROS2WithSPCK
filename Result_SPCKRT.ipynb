{
 "cells": [
  {
   "cell_type": "markdown",
   "metadata": {},
   "source": [
    "# 读取并分析实时联合仿真结果文件 SimResult.log"
   ]
  },
  {
   "cell_type": "code",
   "execution_count": null,
   "metadata": {},
   "outputs": [],
   "source": [
    "import pandas as pd\n",
    "\n",
    "def read_large_log_file(file_path):\n",
    "    # 使用chunksize参数来分块读取大文件\n",
    "    # 设置sep='\\t'因为数据是用制表符分隔的\n",
    "    # 使用float_precision='high'来保持高精度数值\n",
    "    chunks = pd.read_csv(\n",
    "        file_path,\n",
    "        sep='\\t',\n",
    "        float_precision='high',\n",
    "        chunksize=10000  # 每次读取10000行\n",
    "    )\n",
    "    \n",
    "    # 初始化一个空的DataFrame来存储结果\n",
    "    df = pd.DataFrame()\n",
    "    \n",
    "    # 分块处理数据\n",
    "    for chunk in chunks:\n",
    "        # 这里可以对每个chunk进行处理\n",
    "        # 例如：只保留某些列，或者进行一些计算\n",
    "        df = pd.concat([df, chunk], ignore_index=True)\n",
    "        \n",
    "    return df\n",
    "\n",
    "# 读取 SIMPACK 自动生成的实时仿真文件\n",
    "# file_path = '/home/yaoyao/Documents/myProjects/ROS2WithSPCK/Vehicle4WDB_RealtimeCRV.output/Vehicle4WDB_RealtimeCRV.y.log'\n",
    "\n",
    "# 读取自编 C++ 代码与 SIMPACK 实时联合仿真的结果文件\n",
    "file_path = '/home/yaoyao/Documents/myProjects/ROS2WithSPCK/SimResult.log'\n",
    "\n",
    "try:\n",
    "    # 读取数据\n",
    "    df = read_large_log_file(file_path)\n",
    "    \n",
    "    # 显示基本信息\n",
    "    print(\"SIMPACK Realtime Log 文件基本信息：\")\n",
    "    print(f\"行数: {len(df)}\")\n",
    "    print(f\"列数: {len(df.columns)}\")\n",
    "\n",
    "    # # 显示数据基本统计信息\n",
    "    # print(\"\\n数据统计信息：\")\n",
    "    # print(df.describe())\n",
    "\n",
    "except FileNotFoundError:\n",
    "    print(f\"错误：找不到文件 {file_path}\")\n",
    "except Exception as e:\n",
    "    print(f\"发生错误：{str(e)}\")"
   ]
  },
  {
   "cell_type": "code",
   "execution_count": null,
   "metadata": {},
   "outputs": [],
   "source": [
    "%matplotlib inline\n",
    "import pandas as pd\n",
    "import matplotlib.pyplot as plt\n",
    "import numpy as np\n",
    "from matplotlib import font_manager\n",
    "# 设置中文字体\n",
    "plt.rcParams['font.family'] = ['Noto Sans CJK JP'] \n",
    "\n",
    "# 创建图形\n",
    "fig, ax = plt.subplots(figsize=(12, 6))\n",
    "ax.plot(df['Time'], 1000 * df['$Y_Yw01'], 'b-', linewidth=1, label='一位端轮对横移')\n",
    "ax.plot(df['Time'], 1000 * df['$Y_Yw02'], 'k-', linewidth=1, label='二位端轮对横移')\n",
    "ax.plot(df['Time'], 1000 * df['$Y_Yw03'], 'y-', linewidth=1, label='三位端轮对横移')\n",
    "ax.plot(df['Time'], 1000 * df['$Y_Yw04'], 'm-', linewidth=1, label='四位端轮对横移')\n",
    "\n",
    "ax.set_title('轮对横移随时间的变化曲线', fontsize=14, pad=15)\n",
    "ax.set_xlabel('时间 (s)', fontsize=12)\n",
    "ax.set_ylabel('轮对横移量 (mm)', fontsize=12)\n",
    "ax.grid(True, linestyle='--', alpha=0.7)\n",
    "ax.legend(loc='upper right')\n",
    "ax.tick_params(axis='both', which='major', labelsize=10)\n",
    "plt.tight_layout()\n",
    "plt.show()"
   ]
  },
  {
   "cell_type": "code",
   "execution_count": null,
   "metadata": {},
   "outputs": [],
   "source": [
    "%matplotlib inline\n",
    "import pandas as pd\n",
    "import matplotlib.pyplot as plt\n",
    "import numpy as np\n",
    "from matplotlib import font_manager\n",
    "plt.rcParams['font.family'] = ['Noto Sans CJK JP']\n",
    "\n",
    "fig, ax = plt.subplots(figsize=(12, 6))\n",
    "ax.plot(df['Time'], 1000 * df['$Y_Yaw01'], 'b-', linewidth=1, label='一位端轮对摇头角')\n",
    "ax.plot(df['Time'], 1000 * df['$Y_Yaw02'], 'k-', linewidth=1, label='二位端轮对摇头角')\n",
    "ax.plot(df['Time'], 1000 * df['$Y_Yaw03'], 'y-', linewidth=1, label='三位端轮对摇头角')\n",
    "ax.plot(df['Time'], 1000 * df['$Y_Yaw04'], 'm-', linewidth=1, label='四位端轮对摇头角')\n",
    "ax.set_title('轮对攻角随时间的变化曲线', fontsize=14, pad=15)\n",
    "ax.set_xlabel('时间 (s)', fontsize=12)\n",
    "ax.set_ylabel('轮对横移量 (mrad)', fontsize=12)\n",
    "ax.grid(True, linestyle='--', alpha=0.7)\n",
    "ax.legend(loc='upper right')\n",
    "ax.tick_params(axis='both', which='major', labelsize=10)\n",
    "plt.tight_layout()\n",
    "plt.show()"
   ]
  }
 ],
 "metadata": {
  "kernelspec": {
   "display_name": "pypack",
   "language": "python",
   "name": "python3"
  },
  "language_info": {
   "codemirror_mode": {
    "name": "ipython",
    "version": 3
   },
   "file_extension": ".py",
   "mimetype": "text/x-python",
   "name": "python",
   "nbconvert_exporter": "python",
   "pygments_lexer": "ipython3",
   "version": "3.10.16"
  }
 },
 "nbformat": 4,
 "nbformat_minor": 2
}

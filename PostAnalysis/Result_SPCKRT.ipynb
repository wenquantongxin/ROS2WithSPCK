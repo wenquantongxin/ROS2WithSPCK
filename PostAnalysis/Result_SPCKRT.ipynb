{
 "cells": [
  {
   "cell_type": "markdown",
   "metadata": {},
   "source": [
    "# 读取并分析实时联合仿真结果文件 SimResult.log"
   ]
  },
  {
   "cell_type": "code",
   "execution_count": null,
   "metadata": {},
   "outputs": [],
   "source": [
    "import pandas as pd\n",
    "\n",
    "def read_large_log_file(file_path):\n",
    "    # 使用chunksize参数来分块读取大文件\n",
    "    # 设置sep='\\t'因为数据是用制表符分隔的\n",
    "    # 使用float_precision='high'来保持高精度数值\n",
    "    chunks = pd.read_csv(\n",
    "        file_path,\n",
    "        sep='\\t',\n",
    "        float_precision='high',\n",
    "        chunksize=10000  # 每次读取10000行\n",
    "    )\n",
    "    \n",
    "    # 初始化一个空的DataFrame来存储结果\n",
    "    df = pd.DataFrame()\n",
    "    \n",
    "    # 分块处理数据\n",
    "    for chunk in chunks:\n",
    "        # 这里可以对每个chunk进行处理\n",
    "        # 例如：只保留某些列，或者进行一些计算\n",
    "        df = pd.concat([df, chunk], ignore_index=True)\n",
    "        \n",
    "    return df\n",
    "\n",
    "# 读取自编 C++ 代码与 SIMPACK 实时联合仿真的结果文件\n",
    "file_path = '/home/yaoyao/Documents/myProjects/ROS2WithSPCK/PostAnalysis/Result_Y_RosRt.log'\n",
    "\n",
    "try:\n",
    "    # 读取数据\n",
    "    df = read_large_log_file(file_path)\n",
    "    \n",
    "    # 显示基本信息\n",
    "    print(\"SIMPACK Realtime Log 文件基本信息：\")\n",
    "    print(f\"行数: {len(df)}\")\n",
    "    print(f\"列数: {len(df.columns)}\")\n",
    "\n",
    "    # # 显示数据基本统计信息\n",
    "    # print(\"\\n数据统计信息：\")\n",
    "    # print(df.describe())\n",
    "\n",
    "except FileNotFoundError:\n",
    "    print(f\"错误：找不到文件 {file_path}\")\n",
    "except Exception as e:\n",
    "    print(f\"发生错误：{str(e)}\")"
   ]
  },
  {
   "cell_type": "markdown",
   "metadata": {},
   "source": [
    "# 轮对横移时间历程"
   ]
  },
  {
   "cell_type": "code",
   "execution_count": null,
   "metadata": {},
   "outputs": [],
   "source": [
    "%matplotlib inline\n",
    "import pandas as pd\n",
    "import matplotlib.pyplot as plt\n",
    "import numpy as np\n",
    "from matplotlib import font_manager\n",
    "plt.rcParams['font.family'] = ['Noto Sans CJK JP'] # 设置中文字体\n",
    "\n",
    "# 创建图形\n",
    "fig, ax = plt.subplots(figsize=(12, 6))\n",
    "ax.plot(df['Time'], 1000 * df['y_ws01_y'], 'b-', linewidth=1, label='一位端轮对横移')\n",
    "ax.plot(df['Time'], 1000 * df['y_ws02_y'], 'k-', linewidth=1, label='二位端轮对横移')\n",
    "ax.plot(df['Time'], 1000 * df['y_ws03_y'], 'y-', linewidth=1, label='三位端轮对横移')\n",
    "ax.plot(df['Time'], 1000 * df['y_ws04_y'], 'm-', linewidth=1, label='四位端轮对横移')\n",
    "\n",
    "ax.set_title('轮对横移随时间的变化曲线', fontsize=14, pad=15)\n",
    "ax.set_xlabel('时间 (s)', fontsize=12)\n",
    "ax.set_ylabel('轮对横移量 (mm)', fontsize=12)\n",
    "ax.grid(True, linestyle='--', alpha=0.7)\n",
    "ax.legend(loc='upper right')\n",
    "ax.tick_params(axis='both', which='major', labelsize=10)\n",
    "plt.tight_layout()\n",
    "plt.show()"
   ]
  },
  {
   "cell_type": "markdown",
   "metadata": {},
   "source": [
    "# 轮对摇头角时间历程"
   ]
  },
  {
   "cell_type": "code",
   "execution_count": null,
   "metadata": {},
   "outputs": [],
   "source": [
    "%matplotlib inline\n",
    "import pandas as pd\n",
    "import matplotlib.pyplot as plt\n",
    "import numpy as np\n",
    "from matplotlib import font_manager\n",
    "plt.rcParams['font.family'] = ['Noto Sans CJK JP']\n",
    "\n",
    "fig, ax = plt.subplots(figsize=(12, 6))\n",
    "ax.plot(df['Time'], 1000 * df['y_ws01_yaw'], 'b-', linewidth=1, label='一位端轮对摇头角')\n",
    "ax.plot(df['Time'], 1000 * df['y_ws02_yaw'], 'k-', linewidth=1, label='二位端轮对摇头角')\n",
    "ax.plot(df['Time'], 1000 * df['y_ws03_yaw'], 'y-', linewidth=1, label='三位端轮对摇头角')\n",
    "ax.plot(df['Time'], 1000 * df['y_ws04_yaw'], 'm-', linewidth=1, label='四位端轮对摇头角')\n",
    "ax.set_title('轮对攻角随时间的变化曲线', fontsize=14, pad=15)\n",
    "ax.set_xlabel('时间 (s)', fontsize=12)\n",
    "ax.set_ylabel('轮对横移量 (mrad)', fontsize=12)\n",
    "ax.grid(True, linestyle='--', alpha=0.7)\n",
    "ax.legend(loc='upper right')\n",
    "ax.tick_params(axis='both', which='major', labelsize=10)\n",
    "plt.tight_layout()\n",
    "plt.show()"
   ]
  },
  {
   "cell_type": "markdown",
   "metadata": {},
   "source": [
    "# 车轮转速时间历程"
   ]
  },
  {
   "cell_type": "code",
   "execution_count": null,
   "metadata": {},
   "outputs": [],
   "source": [
    "%matplotlib inline\n",
    "\n",
    "import pandas as pd\n",
    "import matplotlib.pyplot as plt\n",
    "import numpy as np\n",
    "from matplotlib import font_manager\n",
    "\n",
    "# 设置中文字体\n",
    "plt.rcParams['font.family'] = ['Noto Sans CJK JP'] \n",
    "\n",
    "# 创建图形\n",
    "fig, ax = plt.subplots(figsize=(12, 6))\n",
    "\n",
    "# 绘制主曲线\n",
    "ax.plot(df['Time'], df['y_w01_rotw'], 'b-', linewidth=1, label='一位端左侧车轮转速')\n",
    "\n",
    "# 设置图形标题和标签\n",
    "ax.set_title('车轮转速随时间的变化曲线', fontsize=14, pad=15)\n",
    "ax.set_xlabel('时间 (s)', fontsize=12)\n",
    "ax.set_ylabel('车轮转速 (rad/s)', fontsize=12)\n",
    "\n",
    "# 添加网格\n",
    "ax.grid(True, linestyle='--', alpha=0.7)\n",
    "\n",
    "# 添加图例\n",
    "ax.legend(loc='upper right')\n",
    "\n",
    "# 设置坐标轴刻度\n",
    "ax.tick_params(axis='both', which='major', labelsize=10)\n",
    "\n",
    "# 添加一些基本统计信息\n",
    "stats_text = f'最大值: {df[\"y_w01_rotw\"].max():.2e}m\\n' \\\n",
    "                f'最小值: {df[\"y_w01_rotw\"].min():.2e}m\\n' \\\n",
    "                f'均值: {df[\"y_w01_rotw\"].mean():.2e}m'\n",
    "ax.text(0.02, 0.98, stats_text,\n",
    "        transform=ax.transAxes,\n",
    "        bbox=dict(facecolor='white', alpha=0.8),\n",
    "        verticalalignment='top',\n",
    "        fontsize=10)\n",
    "#ax.set_ylim(-0.8, 1.0)\n",
    "#ax.set_xlim(0, 50)\n",
    "\n",
    "# 优化布局\n",
    "plt.tight_layout()\n",
    "\n",
    "# 显示图形\n",
    "plt.show()"
   ]
  },
  {
   "cell_type": "markdown",
   "metadata": {},
   "source": [
    "# 读取控制量文件"
   ]
  },
  {
   "cell_type": "code",
   "execution_count": null,
   "metadata": {},
   "outputs": [],
   "source": [
    "# 读取自编 C++ 代码与 SIMPACK 实时联合仿真的结果文件\n",
    "file_path = '/home/yaoyao/Documents/myProjects/ROS2WithSPCK/PostAnalysis/Result_U_RosRt.log'\n",
    "\n",
    "try:\n",
    "    # 读取数据\n",
    "    df_u = read_large_log_file(file_path)\n",
    "    \n",
    "    # 显示基本信息\n",
    "    print(\"SIMPACK Realtime Log 文件基本信息：\")\n",
    "    print(f\"行数: {len(df_u)}\")\n",
    "    print(f\"列数: {len(df_u.columns)}\")\n",
    "\n",
    "except FileNotFoundError:\n",
    "    print(f\"错误：找不到文件 {file_path}\")\n",
    "except Exception as e:\n",
    "    print(f\"发生错误：{str(e)}\")"
   ]
  },
  {
   "cell_type": "markdown",
   "metadata": {},
   "source": [
    "# 控制器输出转矩的时间历程"
   ]
  },
  {
   "cell_type": "code",
   "execution_count": null,
   "metadata": {},
   "outputs": [],
   "source": [
    "%matplotlib inline\n",
    "import pandas as pd\n",
    "import matplotlib.pyplot as plt\n",
    "import numpy as np\n",
    "from matplotlib import font_manager\n",
    "plt.rcParams['font.family'] = ['Noto Sans CJK JP']\n",
    "\n",
    "fig, ax = plt.subplots(figsize=(12, 6))\n",
    "ax.plot(df_u['Time'], df_u['$UI_00'], 'b-', linewidth=1, label='一位端左侧车轮 电机输出转矩')\n",
    "ax.plot(df_u['Time'], df_u['$UI_01'], 'k-', linewidth=1, label='一位端右侧车轮 电机输出转矩')\n",
    "ax.plot(df_u['Time'], df_u['$UI_02'], 'y-', linewidth=1, label='二位端左侧车轮 电机输出转矩')\n",
    "ax.plot(df_u['Time'], df_u['$UI_03'], 'm-', linewidth=1, label='二位端右侧车轮 电机输出转矩')\n",
    "\n",
    "ax.set_title('电机输出转矩随时间的变化曲线', fontsize=14, pad=15)\n",
    "ax.set_xlabel('时间 (s)', fontsize=12)\n",
    "ax.set_ylabel('输出转矩 (Nm)', fontsize=12)\n",
    "ax.grid(True, linestyle='--', alpha=0.7)\n",
    "ax.legend(loc='upper right')\n",
    "ax.tick_params(axis='both', which='major', labelsize=10)\n",
    "plt.tight_layout()\n",
    "plt.show()"
   ]
  },
  {
   "cell_type": "code",
   "execution_count": null,
   "metadata": {},
   "outputs": [],
   "source": [
    "# 代码占位"
   ]
  }
 ],
 "metadata": {
  "kernelspec": {
   "display_name": "pypack",
   "language": "python",
   "name": "python3"
  },
  "language_info": {
   "codemirror_mode": {
    "name": "ipython",
    "version": 3
   },
   "file_extension": ".py",
   "mimetype": "text/x-python",
   "name": "python",
   "nbconvert_exporter": "python",
   "pygments_lexer": "ipython3",
   "version": "3.10.16"
  }
 },
 "nbformat": 4,
 "nbformat_minor": 2
}

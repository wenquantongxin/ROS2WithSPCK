{
 "cells": [
  {
   "cell_type": "code",
   "execution_count": null,
   "metadata": {},
   "outputs": [],
   "source": [
    "import socket\n",
    "import struct\n",
    "import time\n",
    "import math\n",
    "\n",
    "# 服务器配置\n",
    "UDP_IP = \"127.0.0.1\"  # 如果UE5运行在本机，就用127.0.0.1\n",
    "UDP_PORT = 8888       # 必须与UE5 UDPReceiver端口匹配\n",
    "INTERVAL = 0.033      # 大约每秒30次更新\n",
    "\n",
    "def main():\n",
    "    sock = socket.socket(socket.AF_INET, socket.SOCK_DGRAM)\n",
    "\n",
    "    print(f\"正在启动UDP服务器，地址：{UDP_IP}:{UDP_PORT}\")\n",
    "    print(\"按Ctrl+C停止\")\n",
    "\n",
    "    counter = 0\n",
    "\n",
    "    try:\n",
    "        while True:\n",
    "            counter += 1\n",
    "\n",
    "            # 位置数据：在 XY 平面做圆周运动，Z 上下震荡\n",
    "            radius = 100.0\n",
    "            pos_x = radius * math.cos(counter * 0.05)\n",
    "            pos_y = radius * math.sin(counter * 0.05)\n",
    "            pos_z = 50.0 + 20.0 * math.sin(counter * 0.03)\n",
    "\n",
    "            # 旋转数据(度数)\n",
    "            rot_pitch = 0.0\n",
    "            rot_yaw   = (counter * 2.0) % 360.0\n",
    "            rot_roll  = 20.0 * math.sin(counter * 0.1)\n",
    "\n",
    "            # 数据顺序： x, y, z, pitch, yaw, roll (小端浮点)\n",
    "            data = struct.pack('<ffffff',\n",
    "                               pos_x, pos_y, pos_z,\n",
    "                               rot_pitch, rot_yaw, rot_roll)\n",
    "\n",
    "            sock.sendto(data, (UDP_IP, UDP_PORT))\n",
    "\n",
    "            # 每30次发送打印一次\n",
    "            if counter % 30 == 0:\n",
    "                print(f\"已发送：位置({pos_x:.1f}, {pos_y:.1f}, {pos_z:.1f}), \"\n",
    "                      f\"旋转({rot_pitch:.1f}, {rot_yaw:.1f}, {rot_roll:.1f})\")\n",
    "\n",
    "            time.sleep(INTERVAL)\n",
    "\n",
    "    except KeyboardInterrupt:\n",
    "        print(\"UDP服务器已停止\")\n",
    "    finally:\n",
    "        sock.close()\n",
    "\n",
    "if __name__ == \"__main__\":\n",
    "    main()\n"
   ]
  }
 ],
 "metadata": {
  "kernelspec": {
   "display_name": "pypack",
   "language": "python",
   "name": "python3"
  },
  "language_info": {
   "codemirror_mode": {
    "name": "ipython",
    "version": 3
   },
   "file_extension": ".py",
   "mimetype": "text/x-python",
   "name": "python",
   "nbconvert_exporter": "python",
   "pygments_lexer": "ipython3",
   "version": "3.10.16"
  }
 },
 "nbformat": 4,
 "nbformat_minor": 2
}

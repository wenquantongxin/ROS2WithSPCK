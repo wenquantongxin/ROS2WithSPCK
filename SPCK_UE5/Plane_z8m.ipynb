{
 "cells": [
  {
   "cell_type": "code",
   "execution_count": 1,
   "metadata": {},
   "outputs": [],
   "source": [
    "import numpy as np\n",
    "from PIL import Image\n",
    "\n",
    "# 图像尺寸可按需调整\n",
    "width = 512\n",
    "height = 512\n",
    "\n",
    "# 在 Z=800 的缩放下，“8米高度”对应的16位灰度像素值\n",
    "value_for_8m = 32896\n",
    "\n",
    "# 创建高度为 'value_for_8m' 的数组\n",
    "arr = np.full((height, width), value_for_8m, dtype=np.uint16)\n",
    "\n",
    "# 转成 16 位灰度图 (mode='I;16')\n",
    "img = Image.fromarray(arr, mode='I;16')\n",
    "\n",
    "# 保存为 16位 PNG\n",
    "img.save(\"plane_8m_z800.png\")\n"
   ]
  }
 ],
 "metadata": {
  "kernelspec": {
   "display_name": "pypack",
   "language": "python",
   "name": "python3"
  },
  "language_info": {
   "codemirror_mode": {
    "name": "ipython",
    "version": 3
   },
   "file_extension": ".py",
   "mimetype": "text/x-python",
   "name": "python",
   "nbconvert_exporter": "python",
   "pygments_lexer": "ipython3",
   "version": "3.10.16"
  }
 },
 "nbformat": 4,
 "nbformat_minor": 2
}

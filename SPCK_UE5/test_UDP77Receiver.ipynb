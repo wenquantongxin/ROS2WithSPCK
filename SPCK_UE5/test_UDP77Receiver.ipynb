{
 "cells": [
  {
   "cell_type": "code",
   "execution_count": null,
   "metadata": {
    "vscode": {
     "languageId": "plaintext"
    }
   },
   "outputs": [],
   "source": [
    "import socket\n",
    "import struct\n",
    "\n",
    "UDP_IP   = \"0.0.0.0\"    # 本机监听所有网卡\n",
    "UDP_PORT = 10088\n",
    "\n",
    "sock = socket.socket(socket.AF_INET, socket.SOCK_DGRAM)\n",
    "sock.bind((UDP_IP, UDP_PORT))\n",
    "\n",
    "# 我们约定发送端是 77 个 double (8字节 each)，总共 616 字节\n",
    "EXPECTED_LEN   = 77\n",
    "EXPECTED_BYTES = EXPECTED_LEN * 8\n",
    "\n",
    "# 采用 little-endian 格式解析: \"<\" 前缀 + \"d\" * 77\n",
    "fmt = \"<\" + \"d\" * EXPECTED_LEN\n",
    "\n",
    "print(f\"Listening on {UDP_IP}:{UDP_PORT} ...\")\n",
    "\n",
    "while True:\n",
    "    data, addr = sock.recvfrom(65535)\n",
    "    if len(data) != EXPECTED_BYTES:\n",
    "        print(f\"[WARN] Received {len(data)} bytes, expected {EXPECTED_BYTES} -> skipping\")\n",
    "        continue\n",
    "\n",
    "    # 解析二进制为 77 个 double\n",
    "    values = struct.unpack(fmt, data)\n",
    "\n",
    "    # 示例：取第 1 个和第 2 个值\n",
    "    sim_time    = values[0]\n",
    "    y_spcktime  = values[1]\n",
    "    y_cb_vx     = values[2]\n",
    "    # ... 其他字段都在 values[3], values[4], ... etc\n",
    "\n",
    "    # 也可以直接打印全部\n",
    "    print(\"Got 77 doubles from:\", addr)\n",
    "    print(values)\n",
    "    print(\"----\")\n"
   ]
  }
 ],
 "metadata": {
  "language_info": {
   "name": "python"
  }
 },
 "nbformat": 4,
 "nbformat_minor": 2
}
